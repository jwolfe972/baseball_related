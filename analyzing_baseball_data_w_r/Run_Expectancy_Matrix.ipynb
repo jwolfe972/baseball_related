{
 "cells": [
  {
   "cell_type": "markdown",
   "source": [
    "# Chapter 5 Value of Plays Using Run Expectancy"
   ],
   "metadata": {
    "collapsed": false
   },
   "id": "f7609f6418fbeb86"
  },
  {
   "cell_type": "code",
   "execution_count": 1,
   "id": "e8da390b",
   "metadata": {
    "ExecuteTime": {
     "end_time": "2024-04-08T19:41:01.003835Z",
     "start_time": "2024-04-08T19:41:00.461331Z"
    }
   },
   "outputs": [
    {
     "name": "stderr",
     "output_type": "stream",
     "text": [
      "── \u001B[1mAttaching core tidyverse packages\u001B[22m ────────────────────────────────────────────────────────────────────────────────────────────────────────── tidyverse 2.0.0 ──\n",
      "\u001B[32m✔\u001B[39m \u001B[34mdplyr    \u001B[39m 1.1.4     \u001B[32m✔\u001B[39m \u001B[34mreadr    \u001B[39m 2.1.5\n",
      "\u001B[32m✔\u001B[39m \u001B[34mforcats  \u001B[39m 1.0.0     \u001B[32m✔\u001B[39m \u001B[34mstringr  \u001B[39m 1.5.1\n",
      "\u001B[32m✔\u001B[39m \u001B[34mggplot2  \u001B[39m 3.5.0     \u001B[32m✔\u001B[39m \u001B[34mtibble   \u001B[39m 3.2.1\n",
      "\u001B[32m✔\u001B[39m \u001B[34mlubridate\u001B[39m 1.9.3     \u001B[32m✔\u001B[39m \u001B[34mtidyr    \u001B[39m 1.3.1\n",
      "\u001B[32m✔\u001B[39m \u001B[34mpurrr    \u001B[39m 1.0.2     \n",
      "── \u001B[1mConflicts\u001B[22m ──────────────────────────────────────────────────────────────────────────────────────────────────────────────────────────── tidyverse_conflicts() ──\n",
      "\u001B[31m✖\u001B[39m \u001B[34mdplyr\u001B[39m::\u001B[32mfilter()\u001B[39m masks \u001B[34mstats\u001B[39m::filter()\n",
      "\u001B[31m✖\u001B[39m \u001B[34mdplyr\u001B[39m::\u001B[32mlag()\u001B[39m    masks \u001B[34mstats\u001B[39m::lag()\n",
      "\u001B[36mℹ\u001B[39m Use the conflicted package (\u001B[3m\u001B[34m<http://conflicted.r-lib.org/>\u001B[39m\u001B[23m) to force all conflicts to become errors\n"
     ]
    }
   ],
   "source": [
    "library(tidyverse)\n",
    "library(Lahman)"
   ]
  },
  {
   "cell_type": "code",
   "outputs": [
    {
     "name": "stderr",
     "output_type": "stream",
     "text": [
      "\u001B[1mRows: \u001B[22m\u001B[34m97\u001B[39m \u001B[1mColumns: \u001B[22m\u001B[34m3\u001B[39m\n",
      "\u001B[36m──\u001B[39m \u001B[1mColumn specification\u001B[22m \u001B[36m──────────────────────────────────────────────────────────────────────────────────────────────────────────────────────────────────────────\u001B[39m\n",
      "\u001B[1mDelimiter:\u001B[22m \",\"\n",
      "\u001B[31mchr\u001B[39m (2): Description, Header\n",
      "\u001B[32mdbl\u001B[39m (1): Field number\n",
      "\n",
      "\u001B[36mℹ\u001B[39m Use `spec()` to retrieve the full column specification for this data.\n",
      "\u001B[36mℹ\u001B[39m Specify the column types or set `show_col_types = FALSE` to quiet this message.\n",
      "Warning message:\n",
      "“\u001B[1m\u001B[22mOne or more parsing issues, call `problems()` on your data frame for details, e.g.:\n",
      "  dat <- vroom(...)\n",
      "  problems(dat)”\n",
      "\u001B[1mRows: \u001B[22m\u001B[34m191864\u001B[39m \u001B[1mColumns: \u001B[22m\u001B[34m97\u001B[39m\n",
      "\u001B[36m──\u001B[39m \u001B[1mColumn specification\u001B[22m \u001B[36m──────────────────────────────────────────────────────────────────────────────────────────────────────────────────────────────────────────\u001B[39m\n",
      "\u001B[1mDelimiter:\u001B[22m \",\"\n",
      "\u001B[31mchr\u001B[39m (34): GAME_ID, AWAY_TEAM_ID, PITCH_SEQ_TX, BAT_ID, BAT_HAND_CD, RESP_BAT...\n",
      "\u001B[32mdbl\u001B[39m (35): INN_CT, BAT_HOME_ID, OUTS_CT, BALLS_CT, STRIKES_CT, AWAY_SCORE_CT,...\n",
      "\u001B[33mlgl\u001B[39m (28): LEADOFF_FL, PH_FL, BAT_EVENT_FL, AB_FL, SH_FL, SF_FL, DP_FL, TP_FL...\n",
      "\n",
      "\u001B[36mℹ\u001B[39m Use `spec()` to retrieve the full column specification for this data.\n",
      "\u001B[36mℹ\u001B[39m Specify the column types or set `show_col_types = FALSE` to quiet this message.\n"
     ]
    }
   ],
   "source": [
    "fields <- read_csv('datasets/fields.csv')\n",
    "data_2011 <- read_csv('datasets/all2011.csv',col_names=pull(fields,Header),\n",
    "                      na = character())"
   ],
   "metadata": {
    "collapsed": false,
    "ExecuteTime": {
     "end_time": "2024-04-08T19:57:35.786998Z",
     "start_time": "2024-04-08T19:57:32.891087Z"
    }
   },
   "id": "ea849980c35668d5",
   "execution_count": 2
  },
  {
   "cell_type": "code",
   "outputs": [],
   "source": [
    "data_2011 %>%\n",
    "mutate(RUNS = AWAY_SCORE_CT + HOME_SCORE_CT,\n",
    "       HALF.INNING = paste(GAME_ID, INN_CT, BAT_HOME_ID),\n",
    "        RUNS.SCORED =\n",
    "         (BAT_DEST_ID> 3) + (RUN1_DEST_ID > 3)+\n",
    "           (RUN2_DEST_ID>3) + (RUN3_DEST_ID> 3)) -> data_2011\n",
    "\n"
   ],
   "metadata": {
    "collapsed": false,
    "ExecuteTime": {
     "end_time": "2024-04-08T20:12:28.428274Z",
     "start_time": "2024-04-08T20:12:28.273832Z"
    }
   },
   "id": "f4e47ca5d4af439",
   "execution_count": 4
  },
  {
   "cell_type": "markdown",
   "source": [
    "## Now we want to compute the maximum total score for each half inning combining home and visitor scores"
   ],
   "metadata": {
    "collapsed": false
   },
   "id": "4ad2f1200589a118"
  },
  {
   "cell_type": "code",
   "outputs": [],
   "source": [
    "data_2011 %>%\n",
    "    group_by(HALF.INNING) %>%\n",
    "    summarize(Outs.Inning = sum(EVENT_OUTS_CT),\n",
    "              Runs.Inning = sum(RUNS.SCORED),\n",
    "                Runs.Start = first(RUNS),\n",
    "                MAX.Runs = Runs.Inning + Runs.Start ) -> half_innings  \n",
    "           "
   ],
   "metadata": {
    "collapsed": false,
    "ExecuteTime": {
     "end_time": "2024-04-08T20:17:32.583319Z",
     "start_time": "2024-04-08T20:17:31.886004Z"
    }
   },
   "id": "54dcdee00658b9ed",
   "execution_count": 8
  },
  {
   "cell_type": "code",
   "outputs": [
    {
     "data": {
      "text/html": "<table class=\"dataframe\">\n<caption>A tibble: 10 × 5</caption>\n<thead>\n\t<tr><th scope=col>HALF.INNING</th><th scope=col>Outs.Inning</th><th scope=col>Runs.Inning</th><th scope=col>Runs.Start</th><th scope=col>MAX.Runs</th></tr>\n\t<tr><th scope=col>&lt;chr&gt;</th><th scope=col>&lt;dbl&gt;</th><th scope=col>&lt;int&gt;</th><th scope=col>&lt;dbl&gt;</th><th scope=col>&lt;dbl&gt;</th></tr>\n</thead>\n<tbody>\n\t<tr><td>ANA201104080 1 0</td><td>3</td><td>0</td><td>0</td><td>0</td></tr>\n\t<tr><td>ANA201104080 1 1</td><td>3</td><td>1</td><td>0</td><td>1</td></tr>\n\t<tr><td>ANA201104080 2 0</td><td>3</td><td>0</td><td>1</td><td>1</td></tr>\n\t<tr><td>ANA201104080 2 1</td><td>3</td><td>0</td><td>1</td><td>1</td></tr>\n\t<tr><td>ANA201104080 3 0</td><td>3</td><td>0</td><td>1</td><td>1</td></tr>\n\t<tr><td>ANA201104080 3 1</td><td>3</td><td>1</td><td>1</td><td>2</td></tr>\n\t<tr><td>ANA201104080 4 0</td><td>3</td><td>0</td><td>2</td><td>2</td></tr>\n\t<tr><td>ANA201104080 4 1</td><td>3</td><td>0</td><td>2</td><td>2</td></tr>\n\t<tr><td>ANA201104080 5 0</td><td>3</td><td>0</td><td>2</td><td>2</td></tr>\n\t<tr><td>ANA201104080 5 1</td><td>3</td><td>0</td><td>2</td><td>2</td></tr>\n</tbody>\n</table>\n",
      "text/markdown": "\nA tibble: 10 × 5\n\n| HALF.INNING &lt;chr&gt; | Outs.Inning &lt;dbl&gt; | Runs.Inning &lt;int&gt; | Runs.Start &lt;dbl&gt; | MAX.Runs &lt;dbl&gt; |\n|---|---|---|---|---|\n| ANA201104080 1 0 | 3 | 0 | 0 | 0 |\n| ANA201104080 1 1 | 3 | 1 | 0 | 1 |\n| ANA201104080 2 0 | 3 | 0 | 1 | 1 |\n| ANA201104080 2 1 | 3 | 0 | 1 | 1 |\n| ANA201104080 3 0 | 3 | 0 | 1 | 1 |\n| ANA201104080 3 1 | 3 | 1 | 1 | 2 |\n| ANA201104080 4 0 | 3 | 0 | 2 | 2 |\n| ANA201104080 4 1 | 3 | 0 | 2 | 2 |\n| ANA201104080 5 0 | 3 | 0 | 2 | 2 |\n| ANA201104080 5 1 | 3 | 0 | 2 | 2 |\n\n",
      "text/latex": "A tibble: 10 × 5\n\\begin{tabular}{lllll}\n HALF.INNING & Outs.Inning & Runs.Inning & Runs.Start & MAX.Runs\\\\\n <chr> & <dbl> & <int> & <dbl> & <dbl>\\\\\n\\hline\n\t ANA201104080 1 0 & 3 & 0 & 0 & 0\\\\\n\t ANA201104080 1 1 & 3 & 1 & 0 & 1\\\\\n\t ANA201104080 2 0 & 3 & 0 & 1 & 1\\\\\n\t ANA201104080 2 1 & 3 & 0 & 1 & 1\\\\\n\t ANA201104080 3 0 & 3 & 0 & 1 & 1\\\\\n\t ANA201104080 3 1 & 3 & 1 & 1 & 2\\\\\n\t ANA201104080 4 0 & 3 & 0 & 2 & 2\\\\\n\t ANA201104080 4 1 & 3 & 0 & 2 & 2\\\\\n\t ANA201104080 5 0 & 3 & 0 & 2 & 2\\\\\n\t ANA201104080 5 1 & 3 & 0 & 2 & 2\\\\\n\\end{tabular}\n",
      "text/plain": "   HALF.INNING      Outs.Inning Runs.Inning Runs.Start MAX.Runs\n1  ANA201104080 1 0 3           0           0          0       \n2  ANA201104080 1 1 3           1           0          1       \n3  ANA201104080 2 0 3           0           1          1       \n4  ANA201104080 2 1 3           0           1          1       \n5  ANA201104080 3 0 3           0           1          1       \n6  ANA201104080 3 1 3           1           1          2       \n7  ANA201104080 4 0 3           0           2          2       \n8  ANA201104080 4 1 3           0           2          2       \n9  ANA201104080 5 0 3           0           2          2       \n10 ANA201104080 5 1 3           0           2          2       "
     },
     "metadata": {},
     "output_type": "display_data"
    }
   ],
   "source": [
    "head(half_innings,10)"
   ],
   "metadata": {
    "collapsed": false,
    "ExecuteTime": {
     "end_time": "2024-04-08T20:17:44.978753Z",
     "start_time": "2024-04-08T20:17:44.938224Z"
    }
   },
   "id": "60e55987792cb6c",
   "execution_count": 9
  },
  {
   "cell_type": "code",
   "outputs": [],
   "source": [],
   "metadata": {
    "collapsed": false
   },
   "id": "af4ef82070cbaa9c"
  }
 ],
 "metadata": {
  "kernelspec": {
   "display_name": "R",
   "language": "R",
   "name": "ir"
  },
  "language_info": {
   "codemirror_mode": "r",
   "file_extension": ".r",
   "mimetype": "text/x-r-source",
   "name": "R",
   "pygments_lexer": "r",
   "version": "4.3.2"
  }
 },
 "nbformat": 4,
 "nbformat_minor": 5
}
