{
 "cells": [
  {
   "cell_type": "markdown",
   "source": [
    "# Chapter 5 Value of Plays Using Run Expectancy"
   ],
   "metadata": {
    "collapsed": false,
    "pycharm": {
     "name": "#%% md\n"
    }
   },
   "id": "f7609f6418fbeb86"
  },
  {
   "cell_type": "code",
   "id": "e8da390b",
   "metadata": {
    "pycharm": {
     "name": "#%%\n"
    },
    "ExecuteTime": {
     "end_time": "2024-04-29T19:35:15.058598Z",
     "start_time": "2024-04-29T19:35:13.763326Z"
    }
   },
   "source": [
    "library(tidyverse)\n",
    "library(Lahman)"
   ],
   "outputs": [
    {
     "name": "stderr",
     "output_type": "stream",
     "text": [
      "── \u001B[1mAttaching core tidyverse packages\u001B[22m ─────────────────────────────────────────────────────────────────────────────────────────────────────────────────────────── tidyverse 2.0.0 ──\n",
      "\u001B[32m✔\u001B[39m \u001B[34mdplyr    \u001B[39m 1.1.4     \u001B[32m✔\u001B[39m \u001B[34mreadr    \u001B[39m 2.1.5\n",
      "\u001B[32m✔\u001B[39m \u001B[34mforcats  \u001B[39m 1.0.0     \u001B[32m✔\u001B[39m \u001B[34mstringr  \u001B[39m 1.5.1\n",
      "\u001B[32m✔\u001B[39m \u001B[34mggplot2  \u001B[39m 3.5.0     \u001B[32m✔\u001B[39m \u001B[34mtibble   \u001B[39m 3.2.1\n",
      "\u001B[32m✔\u001B[39m \u001B[34mlubridate\u001B[39m 1.9.3     \u001B[32m✔\u001B[39m \u001B[34mtidyr    \u001B[39m 1.3.1\n",
      "\u001B[32m✔\u001B[39m \u001B[34mpurrr    \u001B[39m 1.0.2     \n",
      "── \u001B[1mConflicts\u001B[22m ───────────────────────────────────────────────────────────────────────────────────────────────────────────────────────────────────────────── tidyverse_conflicts() ──\n",
      "\u001B[31m✖\u001B[39m \u001B[34mdplyr\u001B[39m::\u001B[32mfilter()\u001B[39m masks \u001B[34mstats\u001B[39m::filter()\n",
      "\u001B[31m✖\u001B[39m \u001B[34mdplyr\u001B[39m::\u001B[32mlag()\u001B[39m    masks \u001B[34mstats\u001B[39m::lag()\n",
      "\u001B[36mℹ\u001B[39m Use the conflicted package (\u001B[3m\u001B[34m<http://conflicted.r-lib.org/>\u001B[39m\u001B[23m) to force all conflicts to become errors\n"
     ]
    }
   ],
   "execution_count": 1
  },
  {
   "cell_type": "code",
   "source": [
    "fields <- read_csv('datasets/fields.csv')\n",
    "data_2011 <- read_csv('datasets/all2011.csv',col_names=pull(fields,Header),\n",
    "                      na = character())\n",
    "\n"
   ],
   "metadata": {
    "collapsed": false,
    "pycharm": {
     "name": "#%%\n"
    },
    "ExecuteTime": {
     "end_time": "2024-04-29T19:37:44.070619Z",
     "start_time": "2024-04-29T19:37:40.152909Z"
    }
   },
   "id": "ea849980c35668d5",
   "outputs": [
    {
     "name": "stderr",
     "output_type": "stream",
     "text": [
      "\u001B[1mRows: \u001B[22m\u001B[34m97\u001B[39m \u001B[1mColumns: \u001B[22m\u001B[34m3\u001B[39m\n",
      "\u001B[36m──\u001B[39m \u001B[1mColumn specification\u001B[22m \u001B[36m───────────────────────────────────────────────────────────────────────────────────────────────────────────────────────────────────────────────────────────\u001B[39m\n",
      "\u001B[1mDelimiter:\u001B[22m \",\"\n",
      "\u001B[31mchr\u001B[39m (2): Description, Header\n",
      "\u001B[32mdbl\u001B[39m (1): Field number\n",
      "\n",
      "\u001B[36mℹ\u001B[39m Use `spec()` to retrieve the full column specification for this data.\n",
      "\u001B[36mℹ\u001B[39m Specify the column types or set `show_col_types = FALSE` to quiet this message.\n",
      "Warning message:\n",
      "\"\u001B[1m\u001B[22mOne or more parsing issues, call `problems()` on your data frame for details, e.g.:\n",
      "  dat <- vroom(...)\n",
      "  problems(dat)\"\n",
      "\u001B[1mRows: \u001B[22m\u001B[34m191864\u001B[39m \u001B[1mColumns: \u001B[22m\u001B[34m97\u001B[39m\n",
      "\u001B[36m──\u001B[39m \u001B[1mColumn specification\u001B[22m \u001B[36m───────────────────────────────────────────────────────────────────────────────────────────────────────────────────────────────────────────────────────────\u001B[39m\n",
      "\u001B[1mDelimiter:\u001B[22m \",\"\n",
      "\u001B[31mchr\u001B[39m (34): GAME_ID, AWAY_TEAM_ID, PITCH_SEQ_TX, BAT_ID, BAT_HAND_CD, RESP_BAT...\n",
      "\u001B[32mdbl\u001B[39m (35): INN_CT, BAT_HOME_ID, OUTS_CT, BALLS_CT, STRIKES_CT, AWAY_SCORE_CT,...\n",
      "\u001B[33mlgl\u001B[39m (28): LEADOFF_FL, PH_FL, BAT_EVENT_FL, AB_FL, SH_FL, SF_FL, DP_FL, TP_FL...\n",
      "\n",
      "\u001B[36mℹ\u001B[39m Use `spec()` to retrieve the full column specification for this data.\n",
      "\u001B[36mℹ\u001B[39m Specify the column types or set `show_col_types = FALSE` to quiet this message.\n"
     ]
    }
   ],
   "execution_count": 4
  },
  {
   "cell_type": "code",
   "source": [
    "data_2011 %>%\n",
    "mutate(RUNS = AWAY_SCORE_CT + HOME_SCORE_CT,\n",
    "       HALF.INNING = paste(GAME_ID, INN_CT, BAT_HOME_ID),\n",
    "        RUNS.SCORED =\n",
    "         (BAT_DEST_ID> 3) + (RUN1_DEST_ID > 3)+\n",
    "           (RUN2_DEST_ID>3) + (RUN3_DEST_ID> 3)) -> data_2011\n",
    "\n"
   ],
   "metadata": {
    "collapsed": false,
    "pycharm": {
     "name": "#%%\n"
    },
    "ExecuteTime": {
     "end_time": "2024-04-29T19:37:48.126811Z",
     "start_time": "2024-04-29T19:37:47.371210Z"
    }
   },
   "id": "f4e47ca5d4af439",
   "outputs": [],
   "execution_count": 5
  },
  {
   "cell_type": "markdown",
   "source": [
    "## Now we want to compute the maximum total score for each half inning combining home and visitor scores"
   ],
   "metadata": {
    "collapsed": false,
    "pycharm": {
     "name": "#%% md\n"
    }
   },
   "id": "4ad2f1200589a118"
  },
  {
   "cell_type": "code",
   "source": [
    "data_2011 %>%\n",
    "    group_by(HALF.INNING) %>%\n",
    "    summarize(Outs.Inning = sum(EVENT_OUTS_CT),\n",
    "              Runs.Inning = sum(RUNS.SCORED),\n",
    "                Runs.Start = first(RUNS),\n",
    "                MAX.Runs = Runs.Inning + Runs.Start ) -> half_innings  \n",
    "           "
   ],
   "metadata": {
    "collapsed": false,
    "pycharm": {
     "name": "#%%\n"
    },
    "ExecuteTime": {
     "end_time": "2024-04-29T19:44:40.340622Z",
     "start_time": "2024-04-29T19:44:37.624082Z"
    }
   },
   "id": "54dcdee00658b9ed",
   "outputs": [],
   "execution_count": 7
  },
  {
   "cell_type": "code",
   "source": [
    "head(half_innings,10)"
   ],
   "metadata": {
    "collapsed": false,
    "pycharm": {
     "name": "#%%\n",
     "is_executing": true
    },
    "ExecuteTime": {
     "end_time": "2024-04-29T19:44:41.418627Z",
     "start_time": "2024-04-29T19:44:41.359493Z"
    }
   },
   "id": "60e55987792cb6c",
   "outputs": [
    {
     "data": {
      "text/html": [
       "<table class=\"dataframe\">\n",
       "<caption>A tibble: 10 × 5</caption>\n",
       "<thead>\n",
       "\t<tr><th scope=col>HALF.INNING</th><th scope=col>Outs.Inning</th><th scope=col>Runs.Inning</th><th scope=col>Runs.Start</th><th scope=col>MAX.Runs</th></tr>\n",
       "\t<tr><th scope=col>&lt;chr&gt;</th><th scope=col>&lt;dbl&gt;</th><th scope=col>&lt;int&gt;</th><th scope=col>&lt;dbl&gt;</th><th scope=col>&lt;dbl&gt;</th></tr>\n",
       "</thead>\n",
       "<tbody>\n",
       "\t<tr><td>ANA201104080 1 0</td><td>3</td><td>0</td><td>0</td><td>0</td></tr>\n",
       "\t<tr><td>ANA201104080 1 1</td><td>3</td><td>1</td><td>0</td><td>1</td></tr>\n",
       "\t<tr><td>ANA201104080 2 0</td><td>3</td><td>0</td><td>1</td><td>1</td></tr>\n",
       "\t<tr><td>ANA201104080 2 1</td><td>3</td><td>0</td><td>1</td><td>1</td></tr>\n",
       "\t<tr><td>ANA201104080 3 0</td><td>3</td><td>0</td><td>1</td><td>1</td></tr>\n",
       "\t<tr><td>ANA201104080 3 1</td><td>3</td><td>1</td><td>1</td><td>2</td></tr>\n",
       "\t<tr><td>ANA201104080 4 0</td><td>3</td><td>0</td><td>2</td><td>2</td></tr>\n",
       "\t<tr><td>ANA201104080 4 1</td><td>3</td><td>0</td><td>2</td><td>2</td></tr>\n",
       "\t<tr><td>ANA201104080 5 0</td><td>3</td><td>0</td><td>2</td><td>2</td></tr>\n",
       "\t<tr><td>ANA201104080 5 1</td><td>3</td><td>0</td><td>2</td><td>2</td></tr>\n",
       "</tbody>\n",
       "</table>\n"
      ],
      "text/markdown": "\nA tibble: 10 × 5\n\n| HALF.INNING &lt;chr&gt; | Outs.Inning &lt;dbl&gt; | Runs.Inning &lt;int&gt; | Runs.Start &lt;dbl&gt; | MAX.Runs &lt;dbl&gt; |\n|---|---|---|---|---|\n| ANA201104080 1 0 | 3 | 0 | 0 | 0 |\n| ANA201104080 1 1 | 3 | 1 | 0 | 1 |\n| ANA201104080 2 0 | 3 | 0 | 1 | 1 |\n| ANA201104080 2 1 | 3 | 0 | 1 | 1 |\n| ANA201104080 3 0 | 3 | 0 | 1 | 1 |\n| ANA201104080 3 1 | 3 | 1 | 1 | 2 |\n| ANA201104080 4 0 | 3 | 0 | 2 | 2 |\n| ANA201104080 4 1 | 3 | 0 | 2 | 2 |\n| ANA201104080 5 0 | 3 | 0 | 2 | 2 |\n| ANA201104080 5 1 | 3 | 0 | 2 | 2 |\n\n",
      "text/latex": "A tibble: 10 × 5\n\\begin{tabular}{lllll}\n HALF.INNING & Outs.Inning & Runs.Inning & Runs.Start & MAX.Runs\\\\\n <chr> & <dbl> & <int> & <dbl> & <dbl>\\\\\n\\hline\n\t ANA201104080 1 0 & 3 & 0 & 0 & 0\\\\\n\t ANA201104080 1 1 & 3 & 1 & 0 & 1\\\\\n\t ANA201104080 2 0 & 3 & 0 & 1 & 1\\\\\n\t ANA201104080 2 1 & 3 & 0 & 1 & 1\\\\\n\t ANA201104080 3 0 & 3 & 0 & 1 & 1\\\\\n\t ANA201104080 3 1 & 3 & 1 & 1 & 2\\\\\n\t ANA201104080 4 0 & 3 & 0 & 2 & 2\\\\\n\t ANA201104080 4 1 & 3 & 0 & 2 & 2\\\\\n\t ANA201104080 5 0 & 3 & 0 & 2 & 2\\\\\n\t ANA201104080 5 1 & 3 & 0 & 2 & 2\\\\\n\\end{tabular}\n",
      "text/plain": [
       "   HALF.INNING      Outs.Inning Runs.Inning Runs.Start MAX.Runs\n",
       "1  ANA201104080 1 0 3           0           0          0       \n",
       "2  ANA201104080 1 1 3           1           0          1       \n",
       "3  ANA201104080 2 0 3           0           1          1       \n",
       "4  ANA201104080 2 1 3           0           1          1       \n",
       "5  ANA201104080 3 0 3           0           1          1       \n",
       "6  ANA201104080 3 1 3           1           1          2       \n",
       "7  ANA201104080 4 0 3           0           2          2       \n",
       "8  ANA201104080 4 1 3           0           2          2       \n",
       "9  ANA201104080 5 0 3           0           2          2       \n",
       "10 ANA201104080 5 1 3           0           2          2       "
      ]
     },
     "metadata": {},
     "output_type": "display_data"
    }
   ],
   "execution_count": 8
  },
  {
   "cell_type": "code",
   "source": [
    "data_2011 %>%\n",
    "    inner_join(half_innings, by = \"HALF.INNING\") %>%\n",
    "    mutate(RUNS.ROI = MAX.Runs - RUNS) -> data_2011"
   ],
   "metadata": {
    "collapsed": false,
    "pycharm": {
     "name": "#%%\n"
    },
    "ExecuteTime": {
     "end_time": "2024-04-29T19:44:56.918735Z",
     "start_time": "2024-04-29T19:44:56.452078Z"
    }
   },
   "id": "88b8f91efa6dfd02",
   "outputs": [],
   "execution_count": 10
  },
  {
   "metadata": {},
   "cell_type": "markdown",
   "source": "## Creating the Matrix",
   "id": "fb04ed35f55236a7"
  },
  {
   "metadata": {
    "ExecuteTime": {
     "end_time": "2024-04-29T19:57:21.221082Z",
     "start_time": "2024-04-29T19:57:20.128957Z"
    }
   },
   "cell_type": "code",
   "source": [
    "data_2011 %>%\n",
    "mutate(BASES = paste(\n",
    "  ifelse(BASE1_RUN_ID> \"\", 1,0),\n",
    "  ifelse(BASE2_RUN_ID> \"\", 1,0),\n",
    "  ifelse(BASE3_RUN_ID> \"\", 1,0), sep=\"\"\n",
    "  ), \n",
    "   STATE = paste(BASES, OUTS_CT)) -> data_2011"
   ],
   "id": "70654365174fbac3",
   "outputs": [],
   "execution_count": 12
  },
  {
   "metadata": {},
   "cell_type": "markdown",
   "source": "### We only want to consider plays in df where there is some form of change  in the runners on base, number of outs, or runs scored",
   "id": "415f97c68a5ac0a1"
  },
  {
   "metadata": {
    "ExecuteTime": {
     "end_time": "2024-04-29T19:58:33.395956Z",
     "start_time": "2024-04-29T19:58:32.119048Z"
    }
   },
   "cell_type": "code",
   "source": [
    "# the nrunner variables confirm if after the play those bags are occupied or not\n",
    "#NOUTS IS NUM OF OUTS AFTER THE PLAY\n",
    "data_2011 %>%\n",
    "mutate(NRUNNER1 = as.numeric(RUN1_DEST_ID == 1 | BAT_DEST_ID == 1),\n",
    "       NRUNNER2 = as.numeric(RUN1_DEST_ID == 2 | RUN2_DEST_ID == 2 | BAT_DEST_ID == 2),\n",
    "        NRUNNER3 = as.numeric(RUN1_DEST_ID == 3 | RUN2_DEST_ID == 3 | RUN3_DEST_ID == 3 | BAT_DEST_ID == 3),\n",
    "        NOUTS = OUTS_CT + EVENT_OUTS_CT ,\n",
    "        NEW.BASES = paste(NRUNNER1,NRUNNER2,NRUNNER3,sep=\"\"),\n",
    "        NEW.STATE = paste(NEW.BASES, NOUTS)) -> data_2011"
   ],
   "id": "87985b8d5750945b",
   "outputs": [],
   "execution_count": 15
  },
  {
   "metadata": {
    "ExecuteTime": {
     "end_time": "2024-04-29T20:01:20.385184Z",
     "start_time": "2024-04-29T20:01:20.106203Z"
    }
   },
   "cell_type": "code",
   "source": [
    "# now use filter to restrict our attention to plays that either there is a change between state and new.state\n",
    "\n",
    "data_2011 %>%\n",
    "  filter((STATE != NEW.STATE ) | (RUNS.SCORED> 0)) -> data_2011"
   ],
   "id": "90e88a9b1d13fc84",
   "outputs": [],
   "execution_count": 16
  },
  {
   "metadata": {},
   "cell_type": "markdown",
   "source": "## Before run expectancy is computed we only want complete full half innings (some innings end early because of things such as walkoffs for example",
   "id": "8929d7754889f100"
  },
  {
   "metadata": {
    "ExecuteTime": {
     "end_time": "2024-04-29T20:03:00.719141Z",
     "start_time": "2024-04-29T20:03:00.315845Z"
    }
   },
   "cell_type": "code",
   "source": [
    "data_2011 %>%\n",
    "filter(Outs.Inning == 3) -> data_2011C"
   ],
   "id": "2bf368b5f8a1da69",
   "outputs": [],
   "execution_count": 17
  },
  {
   "metadata": {},
   "cell_type": "markdown",
   "source": "## We compute the expected number of runs scored in remainder of inning for each 24 base out situation ",
   "id": "13e0a19417453e5c"
  },
  {
   "metadata": {
    "ExecuteTime": {
     "end_time": "2024-04-29T22:37:12.410173Z",
     "start_time": "2024-04-29T22:37:12.316205Z"
    }
   },
   "cell_type": "code",
   "source": [
    "data_2011C %>%\n",
    "    group_by(STATE) %>%\n",
    "    summarize(Mean = mean(RUNS.ROI)) %>%\n",
    "    mutate(Outs = substr(STATE,5,5)) %>%\n",
    "    arrange(Outs) -> RUNS\n",
    "\n",
    "\n",
    "head(RUNS,10)"
   ],
   "id": "ac8145d46ef6dfbe",
   "outputs": [
    {
     "data": {
      "text/html": [
       "<table class=\"dataframe\">\n",
       "<caption>A tibble: 10 × 3</caption>\n",
       "<thead>\n",
       "\t<tr><th scope=col>STATE</th><th scope=col>Mean</th><th scope=col>Outs</th></tr>\n",
       "\t<tr><th scope=col>&lt;chr&gt;</th><th scope=col>&lt;dbl&gt;</th><th scope=col>&lt;chr&gt;</th></tr>\n",
       "</thead>\n",
       "<tbody>\n",
       "\t<tr><td>000 0</td><td>0.4711649</td><td>0</td></tr>\n",
       "\t<tr><td>001 0</td><td>1.4543568</td><td>0</td></tr>\n",
       "\t<tr><td>010 0</td><td>1.0582804</td><td>0</td></tr>\n",
       "\t<tr><td>011 0</td><td>1.9304897</td><td>0</td></tr>\n",
       "\t<tr><td>100 0</td><td>0.8350992</td><td>0</td></tr>\n",
       "\t<tr><td>101 0</td><td>1.7526998</td><td>0</td></tr>\n",
       "\t<tr><td>110 0</td><td>1.4144549</td><td>0</td></tr>\n",
       "\t<tr><td>111 0</td><td>2.1718266</td><td>0</td></tr>\n",
       "\t<tr><td>000 1</td><td>0.2546956</td><td>1</td></tr>\n",
       "\t<tr><td>001 1</td><td>0.9374359</td><td>1</td></tr>\n",
       "</tbody>\n",
       "</table>\n"
      ],
      "text/markdown": "\nA tibble: 10 × 3\n\n| STATE &lt;chr&gt; | Mean &lt;dbl&gt; | Outs &lt;chr&gt; |\n|---|---|---|\n| 000 0 | 0.4711649 | 0 |\n| 001 0 | 1.4543568 | 0 |\n| 010 0 | 1.0582804 | 0 |\n| 011 0 | 1.9304897 | 0 |\n| 100 0 | 0.8350992 | 0 |\n| 101 0 | 1.7526998 | 0 |\n| 110 0 | 1.4144549 | 0 |\n| 111 0 | 2.1718266 | 0 |\n| 000 1 | 0.2546956 | 1 |\n| 001 1 | 0.9374359 | 1 |\n\n",
      "text/latex": "A tibble: 10 × 3\n\\begin{tabular}{lll}\n STATE & Mean & Outs\\\\\n <chr> & <dbl> & <chr>\\\\\n\\hline\n\t 000 0 & 0.4711649 & 0\\\\\n\t 001 0 & 1.4543568 & 0\\\\\n\t 010 0 & 1.0582804 & 0\\\\\n\t 011 0 & 1.9304897 & 0\\\\\n\t 100 0 & 0.8350992 & 0\\\\\n\t 101 0 & 1.7526998 & 0\\\\\n\t 110 0 & 1.4144549 & 0\\\\\n\t 111 0 & 2.1718266 & 0\\\\\n\t 000 1 & 0.2546956 & 1\\\\\n\t 001 1 & 0.9374359 & 1\\\\\n\\end{tabular}\n",
      "text/plain": [
       "   STATE Mean      Outs\n",
       "1  000 0 0.4711649 0   \n",
       "2  001 0 1.4543568 0   \n",
       "3  010 0 1.0582804 0   \n",
       "4  011 0 1.9304897 0   \n",
       "5  100 0 0.8350992 0   \n",
       "6  101 0 1.7526998 0   \n",
       "7  110 0 1.4144549 0   \n",
       "8  111 0 2.1718266 0   \n",
       "9  000 1 0.2546956 1   \n",
       "10 001 1 0.9374359 1   "
      ]
     },
     "metadata": {},
     "output_type": "display_data"
    }
   ],
   "execution_count": 20
  },
  {
   "metadata": {
    "ExecuteTime": {
     "end_time": "2024-04-29T22:42:00.906547Z",
     "start_time": "2024-04-29T22:42:00.800700Z"
    }
   },
   "cell_type": "code",
   "source": [
    "RUNS_outs <- matrix(round(RUNS$Mean,2), 8, 3)\n",
    "dimnames(RUNS_outs)[[2]] <- c(\"0 outs\", \"1 out\", \"2 outs\")\n",
    "dimnames(RUNS_outs)[[1]] <- c(\"000\", \"001\", \"010\", \"011\",\n",
    "                               \"100\", \"101\", \"110\", \"111\")  \n",
    "\n",
    "RUNS_outs"
   ],
   "id": "3de3dde2109abb8a",
   "outputs": [
    {
     "data": {
      "text/html": [
       "<table class=\"dataframe\">\n",
       "<caption>A matrix: 8 × 3 of type dbl</caption>\n",
       "<thead>\n",
       "\t<tr><th></th><th scope=col>0 outs</th><th scope=col>1 out</th><th scope=col>2 outs</th></tr>\n",
       "</thead>\n",
       "<tbody>\n",
       "\t<tr><th scope=row>000</th><td>0.47</td><td>0.25</td><td>0.10</td></tr>\n",
       "\t<tr><th scope=row>001</th><td>1.45</td><td>0.94</td><td>0.32</td></tr>\n",
       "\t<tr><th scope=row>010</th><td>1.06</td><td>0.65</td><td>0.31</td></tr>\n",
       "\t<tr><th scope=row>011</th><td>1.93</td><td>1.34</td><td>0.54</td></tr>\n",
       "\t<tr><th scope=row>100</th><td>0.84</td><td>0.50</td><td>0.22</td></tr>\n",
       "\t<tr><th scope=row>101</th><td>1.75</td><td>1.15</td><td>0.49</td></tr>\n",
       "\t<tr><th scope=row>110</th><td>1.41</td><td>0.87</td><td>0.42</td></tr>\n",
       "\t<tr><th scope=row>111</th><td>2.17</td><td>1.47</td><td>0.76</td></tr>\n",
       "</tbody>\n",
       "</table>\n"
      ],
      "text/markdown": "\nA matrix: 8 × 3 of type dbl\n\n| <!--/--> | 0 outs | 1 out | 2 outs |\n|---|---|---|---|\n| 000 | 0.47 | 0.25 | 0.10 |\n| 001 | 1.45 | 0.94 | 0.32 |\n| 010 | 1.06 | 0.65 | 0.31 |\n| 011 | 1.93 | 1.34 | 0.54 |\n| 100 | 0.84 | 0.50 | 0.22 |\n| 101 | 1.75 | 1.15 | 0.49 |\n| 110 | 1.41 | 0.87 | 0.42 |\n| 111 | 2.17 | 1.47 | 0.76 |\n\n",
      "text/latex": "A matrix: 8 × 3 of type dbl\n\\begin{tabular}{r|lll}\n  & 0 outs & 1 out & 2 outs\\\\\n\\hline\n\t000 & 0.47 & 0.25 & 0.10\\\\\n\t001 & 1.45 & 0.94 & 0.32\\\\\n\t010 & 1.06 & 0.65 & 0.31\\\\\n\t011 & 1.93 & 1.34 & 0.54\\\\\n\t100 & 0.84 & 0.50 & 0.22\\\\\n\t101 & 1.75 & 1.15 & 0.49\\\\\n\t110 & 1.41 & 0.87 & 0.42\\\\\n\t111 & 2.17 & 1.47 & 0.76\\\\\n\\end{tabular}\n",
      "text/plain": [
       "    0 outs 1 out 2 outs\n",
       "000 0.47   0.25  0.10  \n",
       "001 1.45   0.94  0.32  \n",
       "010 1.06   0.65  0.31  \n",
       "011 1.93   1.34  0.54  \n",
       "100 0.84   0.50  0.22  \n",
       "101 1.75   1.15  0.49  \n",
       "110 1.41   0.87  0.42  \n",
       "111 2.17   1.47  0.76  "
      ]
     },
     "metadata": {},
     "output_type": "display_data"
    }
   ],
   "execution_count": 22
  },
  {
   "metadata": {},
   "cell_type": "markdown",
   "source": "## Run Expectancy Matrix",
   "id": "c28595bff0702d15"
  },
  {
   "metadata": {},
   "cell_type": "markdown",
   "source": "# Measuring Success of a Batting Play",
   "id": "1b6d5c1145d66f4a"
  },
  {
   "metadata": {},
   "cell_type": "markdown",
   "source": "### We estimate the value of the plate appearance called the run value by computing the difference in run expectancies of the old and new states plus the number of runs scored on the particular play",
   "id": "31f04e9807dfef4e"
  },
  {
   "metadata": {},
   "cell_type": "markdown",
   "source": "#### RUN VALUE = RUNS(new state) - RUNS(Old State) + RUNS(Scored on the play)",
   "id": "6c1220ea0d229320"
  },
  {
   "metadata": {
    "ExecuteTime": {
     "end_time": "2024-04-29T22:56:44.419917Z",
     "start_time": "2024-04-29T22:56:43.788336Z"
    }
   },
   "cell_type": "code",
   "source": [
    "data_2011 %>%\n",
    "    left_join(select(RUNS, -Outs), by=\"STATE\") %>%\n",
    "    rename(Runs.State = Mean) %>%\n",
    "    left_join(select(RUNS, -Outs),\n",
    "              by= c(\"NEW.STATE\" = \"STATE\")) %>%\n",
    "    rename(Runs.New.State = Mean) %>%\n",
    "    replace_na(list(Runs.New.State = 0)) %>%\n",
    "    mutate(run_value = Runs.New.State - Runs.State + RUNS.SCORED) -> data_2011\n",
    "    "
   ],
   "id": "aabe12af03c2d91c",
   "outputs": [],
   "execution_count": 24
  },
  {
   "metadata": {},
   "cell_type": "markdown",
   "source": "## Josh Hamilton",
   "id": "68863ba92cd2f7fa"
  },
  {
   "metadata": {
    "ExecuteTime": {
     "end_time": "2024-04-29T23:10:54.759501Z",
     "start_time": "2024-04-29T23:10:54.697288Z"
    }
   },
   "cell_type": "code",
   "source": [
    "People %>%\n",
    "  filter(nameFirst == \"Josh\" & nameLast == \"Hamilton\") %>%\n",
    "  pull(retroID) -> josh_hamilton_ID\n",
    "\n",
    "\n",
    "josh_hamilton_ID"
   ],
   "id": "601e5db247712bcc",
   "outputs": [
    {
     "data": {
      "text/html": [
       "'hamij003'"
      ],
      "text/markdown": "'hamij003'",
      "text/latex": "'hamij003'",
      "text/plain": [
       "[1] \"hamij003\""
      ]
     },
     "metadata": {},
     "output_type": "display_data"
    }
   ],
   "execution_count": 49
  },
  {
   "metadata": {
    "ExecuteTime": {
     "end_time": "2024-04-29T23:19:01.030757Z",
     "start_time": "2024-04-29T23:19:00.942250Z"
    }
   },
   "cell_type": "code",
   "source": [
    "# batting_fl is a batting flag variable so it does for if he is the batter\n",
    "data_2011 %>%\n",
    "  filter(BAT_ID == josh_hamilton_ID, BAT_EVENT_FL == TRUE) -> josh_hamilton_at_bats\n",
    "\n",
    "colnames(josh_hamilton_at_bats)"
   ],
   "id": "d57b67c0fc9a1bba",
   "outputs": [
    {
     "data": {
      "text/html": [
       "<style>\n",
       ".list-inline {list-style: none; margin:0; padding: 0}\n",
       ".list-inline>li {display: inline-block}\n",
       ".list-inline>li:not(:last-child)::after {content: \"\\00b7\"; padding: 0 .5ex}\n",
       "</style>\n",
       "<ol class=list-inline><li>'GAME_ID'</li><li>'AWAY_TEAM_ID'</li><li>'INN_CT'</li><li>'BAT_HOME_ID'</li><li>'OUTS_CT'</li><li>'BALLS_CT'</li><li>'STRIKES_CT'</li><li>'PITCH_SEQ_TX'</li><li>'AWAY_SCORE_CT'</li><li>'HOME_SCORE_CT'</li><li>'BAT_ID'</li><li>'BAT_HAND_CD'</li><li>'RESP_BAT_ID'</li><li>'RESP_BAT_HAND_CD'</li><li>'PIT_ID'</li><li>'PIT_HAND_CD'</li><li>'RESP_PIT_ID'</li><li>'RESP_PIT_HAND_CD'</li><li>'POS2_FLD_ID'</li><li>'POS3_FLD_ID'</li><li>'POS4_FLD_ID'</li><li>'POS5_FLD_ID'</li><li>'POS6_FLD_ID'</li><li>'POS7_FLD_ID'</li><li>'POS8_FLD_ID'</li><li>'POS9_FLD_ID'</li><li>'BASE1_RUN_ID'</li><li>'BASE2_RUN_ID'</li><li>'BASE3_RUN_ID'</li><li>'EVENT_TX'</li><li>'LEADOFF_FL'</li><li>'PH_FL'</li><li>'BAT_FLD_CD'</li><li>'BAT_LINEUP_ID'</li><li>'EVENT_CD'</li><li>'BAT_EVENT_FL'</li><li>'AB_FL'</li><li>'H_FL'</li><li>'SH_FL'</li><li>'SF_FL'</li><li>'EVENT_OUTS_CT'</li><li>'DP_FL'</li><li>'TP_FL'</li><li>'RBI_CT'</li><li>'WP_FL'</li><li>'PB_FL'</li><li>'FLD_CD'</li><li>'BATTEDBALL_CD'</li><li>'BUNT_FL'</li><li>'FOUL_FL'</li><li>'BATTEDBALL_LOC_TX'</li><li>'ERR_CT'</li><li>'ERR1_FLD_CD'</li><li>'ERR1_CD'</li><li>'ERR2_FLD_CD'</li><li>'ERR2_CD'</li><li>'ERR3_FLD_CD'</li><li>'ERR3_CD'</li><li>'BAT_DEST_ID'</li><li>'RUN1_DEST_ID'</li><li>'RUN2_DEST_ID'</li><li>'RUN3_DEST_ID'</li><li>'BAT_PLAY_TX'</li><li>'RUN1_PLAY_TX'</li><li>'RUN2_PLAY_TX'</li><li>'RUN3_PLAY_TX'</li><li>'RUN1_SB_FL'</li><li>'RUN2_SB_FL'</li><li>'RUN3_SB_FL'</li><li>'RUN1_CS_FL'</li><li>'RUN2_CS_FL'</li><li>'RUN3_CS_FL'</li><li>'RUN1_PK_FL'</li><li>'RUN2_PK_FL'</li><li>'RUN3_PK_FL'</li><li>'RUN1_RESP_PIT_ID'</li><li>'RUN2_RESP_PIT_ID'</li><li>'RUN3_RESP_PIT_ID'</li><li>'GAME_NEW_FL'</li><li>'GAME_END_FL'</li><li>'PR_RUN1_FL'</li><li>'PR_RUN2_FL'</li><li>'PR_RUN3_FL'</li><li>'REMOVED_FOR_PR_RUN1_ID'</li><li>'REMOVED_FOR_PR_RUN2_ID'</li><li>'REMOVED_FOR_PR_RUN3_ID'</li><li>'REMOVED_FOR_PH_BAT_ID'</li><li>'REMOVED_FOR_PH_BAT_FLD_CD'</li><li>'PO1_FLD_CD'</li><li>'PO2_FLD_CD'</li><li>'PO3_FLD_CD'</li><li>'ASS1_FLD_CD'</li><li>'ASS2_FLD_CD'</li><li>'ASS3_FLD_CD'</li><li>'ASS4_FLD_CD'</li><li>'ASS5_FLD_CD'</li><li>'EVENT_ID'</li><li>'RUNS'</li><li>'HALF.INNING'</li><li>'RUNS.SCORED'</li><li>'Outs.Inning'</li><li>'Runs.Inning'</li><li>'Runs.Start'</li><li>'MAX.Runs'</li><li>'RUNS.ROI'</li><li>'BASES'</li><li>'STATE'</li><li>'NRUNNER1'</li><li>'NRUNNER2'</li><li>'NRUNNER3'</li><li>'NOUTS'</li><li>'NEW.BASES'</li><li>'NEW.STATE'</li><li>'Runs.State'</li><li>'Runs.New.State'</li><li>'run_value'</li></ol>\n"
      ],
      "text/markdown": "1. 'GAME_ID'\n2. 'AWAY_TEAM_ID'\n3. 'INN_CT'\n4. 'BAT_HOME_ID'\n5. 'OUTS_CT'\n6. 'BALLS_CT'\n7. 'STRIKES_CT'\n8. 'PITCH_SEQ_TX'\n9. 'AWAY_SCORE_CT'\n10. 'HOME_SCORE_CT'\n11. 'BAT_ID'\n12. 'BAT_HAND_CD'\n13. 'RESP_BAT_ID'\n14. 'RESP_BAT_HAND_CD'\n15. 'PIT_ID'\n16. 'PIT_HAND_CD'\n17. 'RESP_PIT_ID'\n18. 'RESP_PIT_HAND_CD'\n19. 'POS2_FLD_ID'\n20. 'POS3_FLD_ID'\n21. 'POS4_FLD_ID'\n22. 'POS5_FLD_ID'\n23. 'POS6_FLD_ID'\n24. 'POS7_FLD_ID'\n25. 'POS8_FLD_ID'\n26. 'POS9_FLD_ID'\n27. 'BASE1_RUN_ID'\n28. 'BASE2_RUN_ID'\n29. 'BASE3_RUN_ID'\n30. 'EVENT_TX'\n31. 'LEADOFF_FL'\n32. 'PH_FL'\n33. 'BAT_FLD_CD'\n34. 'BAT_LINEUP_ID'\n35. 'EVENT_CD'\n36. 'BAT_EVENT_FL'\n37. 'AB_FL'\n38. 'H_FL'\n39. 'SH_FL'\n40. 'SF_FL'\n41. 'EVENT_OUTS_CT'\n42. 'DP_FL'\n43. 'TP_FL'\n44. 'RBI_CT'\n45. 'WP_FL'\n46. 'PB_FL'\n47. 'FLD_CD'\n48. 'BATTEDBALL_CD'\n49. 'BUNT_FL'\n50. 'FOUL_FL'\n51. 'BATTEDBALL_LOC_TX'\n52. 'ERR_CT'\n53. 'ERR1_FLD_CD'\n54. 'ERR1_CD'\n55. 'ERR2_FLD_CD'\n56. 'ERR2_CD'\n57. 'ERR3_FLD_CD'\n58. 'ERR3_CD'\n59. 'BAT_DEST_ID'\n60. 'RUN1_DEST_ID'\n61. 'RUN2_DEST_ID'\n62. 'RUN3_DEST_ID'\n63. 'BAT_PLAY_TX'\n64. 'RUN1_PLAY_TX'\n65. 'RUN2_PLAY_TX'\n66. 'RUN3_PLAY_TX'\n67. 'RUN1_SB_FL'\n68. 'RUN2_SB_FL'\n69. 'RUN3_SB_FL'\n70. 'RUN1_CS_FL'\n71. 'RUN2_CS_FL'\n72. 'RUN3_CS_FL'\n73. 'RUN1_PK_FL'\n74. 'RUN2_PK_FL'\n75. 'RUN3_PK_FL'\n76. 'RUN1_RESP_PIT_ID'\n77. 'RUN2_RESP_PIT_ID'\n78. 'RUN3_RESP_PIT_ID'\n79. 'GAME_NEW_FL'\n80. 'GAME_END_FL'\n81. 'PR_RUN1_FL'\n82. 'PR_RUN2_FL'\n83. 'PR_RUN3_FL'\n84. 'REMOVED_FOR_PR_RUN1_ID'\n85. 'REMOVED_FOR_PR_RUN2_ID'\n86. 'REMOVED_FOR_PR_RUN3_ID'\n87. 'REMOVED_FOR_PH_BAT_ID'\n88. 'REMOVED_FOR_PH_BAT_FLD_CD'\n89. 'PO1_FLD_CD'\n90. 'PO2_FLD_CD'\n91. 'PO3_FLD_CD'\n92. 'ASS1_FLD_CD'\n93. 'ASS2_FLD_CD'\n94. 'ASS3_FLD_CD'\n95. 'ASS4_FLD_CD'\n96. 'ASS5_FLD_CD'\n97. 'EVENT_ID'\n98. 'RUNS'\n99. 'HALF.INNING'\n100. 'RUNS.SCORED'\n101. 'Outs.Inning'\n102. 'Runs.Inning'\n103. 'Runs.Start'\n104. 'MAX.Runs'\n105. 'RUNS.ROI'\n106. 'BASES'\n107. 'STATE'\n108. 'NRUNNER1'\n109. 'NRUNNER2'\n110. 'NRUNNER3'\n111. 'NOUTS'\n112. 'NEW.BASES'\n113. 'NEW.STATE'\n114. 'Runs.State'\n115. 'Runs.New.State'\n116. 'run_value'\n\n\n",
      "text/latex": "\\begin{enumerate*}\n\\item 'GAME\\_ID'\n\\item 'AWAY\\_TEAM\\_ID'\n\\item 'INN\\_CT'\n\\item 'BAT\\_HOME\\_ID'\n\\item 'OUTS\\_CT'\n\\item 'BALLS\\_CT'\n\\item 'STRIKES\\_CT'\n\\item 'PITCH\\_SEQ\\_TX'\n\\item 'AWAY\\_SCORE\\_CT'\n\\item 'HOME\\_SCORE\\_CT'\n\\item 'BAT\\_ID'\n\\item 'BAT\\_HAND\\_CD'\n\\item 'RESP\\_BAT\\_ID'\n\\item 'RESP\\_BAT\\_HAND\\_CD'\n\\item 'PIT\\_ID'\n\\item 'PIT\\_HAND\\_CD'\n\\item 'RESP\\_PIT\\_ID'\n\\item 'RESP\\_PIT\\_HAND\\_CD'\n\\item 'POS2\\_FLD\\_ID'\n\\item 'POS3\\_FLD\\_ID'\n\\item 'POS4\\_FLD\\_ID'\n\\item 'POS5\\_FLD\\_ID'\n\\item 'POS6\\_FLD\\_ID'\n\\item 'POS7\\_FLD\\_ID'\n\\item 'POS8\\_FLD\\_ID'\n\\item 'POS9\\_FLD\\_ID'\n\\item 'BASE1\\_RUN\\_ID'\n\\item 'BASE2\\_RUN\\_ID'\n\\item 'BASE3\\_RUN\\_ID'\n\\item 'EVENT\\_TX'\n\\item 'LEADOFF\\_FL'\n\\item 'PH\\_FL'\n\\item 'BAT\\_FLD\\_CD'\n\\item 'BAT\\_LINEUP\\_ID'\n\\item 'EVENT\\_CD'\n\\item 'BAT\\_EVENT\\_FL'\n\\item 'AB\\_FL'\n\\item 'H\\_FL'\n\\item 'SH\\_FL'\n\\item 'SF\\_FL'\n\\item 'EVENT\\_OUTS\\_CT'\n\\item 'DP\\_FL'\n\\item 'TP\\_FL'\n\\item 'RBI\\_CT'\n\\item 'WP\\_FL'\n\\item 'PB\\_FL'\n\\item 'FLD\\_CD'\n\\item 'BATTEDBALL\\_CD'\n\\item 'BUNT\\_FL'\n\\item 'FOUL\\_FL'\n\\item 'BATTEDBALL\\_LOC\\_TX'\n\\item 'ERR\\_CT'\n\\item 'ERR1\\_FLD\\_CD'\n\\item 'ERR1\\_CD'\n\\item 'ERR2\\_FLD\\_CD'\n\\item 'ERR2\\_CD'\n\\item 'ERR3\\_FLD\\_CD'\n\\item 'ERR3\\_CD'\n\\item 'BAT\\_DEST\\_ID'\n\\item 'RUN1\\_DEST\\_ID'\n\\item 'RUN2\\_DEST\\_ID'\n\\item 'RUN3\\_DEST\\_ID'\n\\item 'BAT\\_PLAY\\_TX'\n\\item 'RUN1\\_PLAY\\_TX'\n\\item 'RUN2\\_PLAY\\_TX'\n\\item 'RUN3\\_PLAY\\_TX'\n\\item 'RUN1\\_SB\\_FL'\n\\item 'RUN2\\_SB\\_FL'\n\\item 'RUN3\\_SB\\_FL'\n\\item 'RUN1\\_CS\\_FL'\n\\item 'RUN2\\_CS\\_FL'\n\\item 'RUN3\\_CS\\_FL'\n\\item 'RUN1\\_PK\\_FL'\n\\item 'RUN2\\_PK\\_FL'\n\\item 'RUN3\\_PK\\_FL'\n\\item 'RUN1\\_RESP\\_PIT\\_ID'\n\\item 'RUN2\\_RESP\\_PIT\\_ID'\n\\item 'RUN3\\_RESP\\_PIT\\_ID'\n\\item 'GAME\\_NEW\\_FL'\n\\item 'GAME\\_END\\_FL'\n\\item 'PR\\_RUN1\\_FL'\n\\item 'PR\\_RUN2\\_FL'\n\\item 'PR\\_RUN3\\_FL'\n\\item 'REMOVED\\_FOR\\_PR\\_RUN1\\_ID'\n\\item 'REMOVED\\_FOR\\_PR\\_RUN2\\_ID'\n\\item 'REMOVED\\_FOR\\_PR\\_RUN3\\_ID'\n\\item 'REMOVED\\_FOR\\_PH\\_BAT\\_ID'\n\\item 'REMOVED\\_FOR\\_PH\\_BAT\\_FLD\\_CD'\n\\item 'PO1\\_FLD\\_CD'\n\\item 'PO2\\_FLD\\_CD'\n\\item 'PO3\\_FLD\\_CD'\n\\item 'ASS1\\_FLD\\_CD'\n\\item 'ASS2\\_FLD\\_CD'\n\\item 'ASS3\\_FLD\\_CD'\n\\item 'ASS4\\_FLD\\_CD'\n\\item 'ASS5\\_FLD\\_CD'\n\\item 'EVENT\\_ID'\n\\item 'RUNS'\n\\item 'HALF.INNING'\n\\item 'RUNS.SCORED'\n\\item 'Outs.Inning'\n\\item 'Runs.Inning'\n\\item 'Runs.Start'\n\\item 'MAX.Runs'\n\\item 'RUNS.ROI'\n\\item 'BASES'\n\\item 'STATE'\n\\item 'NRUNNER1'\n\\item 'NRUNNER2'\n\\item 'NRUNNER3'\n\\item 'NOUTS'\n\\item 'NEW.BASES'\n\\item 'NEW.STATE'\n\\item 'Runs.State'\n\\item 'Runs.New.State'\n\\item 'run\\_value'\n\\end{enumerate*}\n",
      "text/plain": [
       "  [1] \"GAME_ID\"                   \"AWAY_TEAM_ID\"             \n",
       "  [3] \"INN_CT\"                    \"BAT_HOME_ID\"              \n",
       "  [5] \"OUTS_CT\"                   \"BALLS_CT\"                 \n",
       "  [7] \"STRIKES_CT\"                \"PITCH_SEQ_TX\"             \n",
       "  [9] \"AWAY_SCORE_CT\"             \"HOME_SCORE_CT\"            \n",
       " [11] \"BAT_ID\"                    \"BAT_HAND_CD\"              \n",
       " [13] \"RESP_BAT_ID\"               \"RESP_BAT_HAND_CD\"         \n",
       " [15] \"PIT_ID\"                    \"PIT_HAND_CD\"              \n",
       " [17] \"RESP_PIT_ID\"               \"RESP_PIT_HAND_CD\"         \n",
       " [19] \"POS2_FLD_ID\"               \"POS3_FLD_ID\"              \n",
       " [21] \"POS4_FLD_ID\"               \"POS5_FLD_ID\"              \n",
       " [23] \"POS6_FLD_ID\"               \"POS7_FLD_ID\"              \n",
       " [25] \"POS8_FLD_ID\"               \"POS9_FLD_ID\"              \n",
       " [27] \"BASE1_RUN_ID\"              \"BASE2_RUN_ID\"             \n",
       " [29] \"BASE3_RUN_ID\"              \"EVENT_TX\"                 \n",
       " [31] \"LEADOFF_FL\"                \"PH_FL\"                    \n",
       " [33] \"BAT_FLD_CD\"                \"BAT_LINEUP_ID\"            \n",
       " [35] \"EVENT_CD\"                  \"BAT_EVENT_FL\"             \n",
       " [37] \"AB_FL\"                     \"H_FL\"                     \n",
       " [39] \"SH_FL\"                     \"SF_FL\"                    \n",
       " [41] \"EVENT_OUTS_CT\"             \"DP_FL\"                    \n",
       " [43] \"TP_FL\"                     \"RBI_CT\"                   \n",
       " [45] \"WP_FL\"                     \"PB_FL\"                    \n",
       " [47] \"FLD_CD\"                    \"BATTEDBALL_CD\"            \n",
       " [49] \"BUNT_FL\"                   \"FOUL_FL\"                  \n",
       " [51] \"BATTEDBALL_LOC_TX\"         \"ERR_CT\"                   \n",
       " [53] \"ERR1_FLD_CD\"               \"ERR1_CD\"                  \n",
       " [55] \"ERR2_FLD_CD\"               \"ERR2_CD\"                  \n",
       " [57] \"ERR3_FLD_CD\"               \"ERR3_CD\"                  \n",
       " [59] \"BAT_DEST_ID\"               \"RUN1_DEST_ID\"             \n",
       " [61] \"RUN2_DEST_ID\"              \"RUN3_DEST_ID\"             \n",
       " [63] \"BAT_PLAY_TX\"               \"RUN1_PLAY_TX\"             \n",
       " [65] \"RUN2_PLAY_TX\"              \"RUN3_PLAY_TX\"             \n",
       " [67] \"RUN1_SB_FL\"                \"RUN2_SB_FL\"               \n",
       " [69] \"RUN3_SB_FL\"                \"RUN1_CS_FL\"               \n",
       " [71] \"RUN2_CS_FL\"                \"RUN3_CS_FL\"               \n",
       " [73] \"RUN1_PK_FL\"                \"RUN2_PK_FL\"               \n",
       " [75] \"RUN3_PK_FL\"                \"RUN1_RESP_PIT_ID\"         \n",
       " [77] \"RUN2_RESP_PIT_ID\"          \"RUN3_RESP_PIT_ID\"         \n",
       " [79] \"GAME_NEW_FL\"               \"GAME_END_FL\"              \n",
       " [81] \"PR_RUN1_FL\"                \"PR_RUN2_FL\"               \n",
       " [83] \"PR_RUN3_FL\"                \"REMOVED_FOR_PR_RUN1_ID\"   \n",
       " [85] \"REMOVED_FOR_PR_RUN2_ID\"    \"REMOVED_FOR_PR_RUN3_ID\"   \n",
       " [87] \"REMOVED_FOR_PH_BAT_ID\"     \"REMOVED_FOR_PH_BAT_FLD_CD\"\n",
       " [89] \"PO1_FLD_CD\"                \"PO2_FLD_CD\"               \n",
       " [91] \"PO3_FLD_CD\"                \"ASS1_FLD_CD\"              \n",
       " [93] \"ASS2_FLD_CD\"               \"ASS3_FLD_CD\"              \n",
       " [95] \"ASS4_FLD_CD\"               \"ASS5_FLD_CD\"              \n",
       " [97] \"EVENT_ID\"                  \"RUNS\"                     \n",
       " [99] \"HALF.INNING\"               \"RUNS.SCORED\"              \n",
       "[101] \"Outs.Inning\"               \"Runs.Inning\"              \n",
       "[103] \"Runs.Start\"                \"MAX.Runs\"                 \n",
       "[105] \"RUNS.ROI\"                  \"BASES\"                    \n",
       "[107] \"STATE\"                     \"NRUNNER1\"                 \n",
       "[109] \"NRUNNER2\"                  \"NRUNNER3\"                 \n",
       "[111] \"NOUTS\"                     \"NEW.BASES\"                \n",
       "[113] \"NEW.STATE\"                 \"Runs.State\"               \n",
       "[115] \"Runs.New.State\"            \"run_value\"                "
      ]
     },
     "metadata": {},
     "output_type": "display_data"
    }
   ],
   "execution_count": 54
  },
  {
   "metadata": {},
   "cell_type": "markdown",
   "source": "## How did Josh Hamilton do in his first 10 plate appearances in 2011?",
   "id": "97d3d3fc1edef92b"
  },
  {
   "metadata": {
    "ExecuteTime": {
     "end_time": "2024-04-29T23:20:22.574791Z",
     "start_time": "2024-04-29T23:20:22.473684Z"
    }
   },
   "cell_type": "code",
   "source": [
    "josh_hamilton_at_bats %>%\n",
    "  select(GAME_ID,STATE, NEW.STATE, run_value) %>%\n",
    "  slice(1:3)"
   ],
   "id": "efff07c6051dd1d",
   "outputs": [
    {
     "data": {
      "text/html": [
       "<table class=\"dataframe\">\n",
       "<caption>A tibble: 3 × 4</caption>\n",
       "<thead>\n",
       "\t<tr><th scope=col>GAME_ID</th><th scope=col>STATE</th><th scope=col>NEW.STATE</th><th scope=col>run_value</th></tr>\n",
       "\t<tr><th scope=col>&lt;chr&gt;</th><th scope=col>&lt;chr&gt;</th><th scope=col>&lt;chr&gt;</th><th scope=col>&lt;dbl&gt;</th></tr>\n",
       "</thead>\n",
       "<tbody>\n",
       "\t<tr><td>ANA201107190</td><td>000 2</td><td>010 2</td><td> 0.2119828</td></tr>\n",
       "\t<tr><td>ANA201107190</td><td>010 0</td><td>001 1</td><td>-0.1208445</td></tr>\n",
       "\t<tr><td>ANA201107190</td><td>100 0</td><td>110 0</td><td> 0.5793557</td></tr>\n",
       "</tbody>\n",
       "</table>\n"
      ],
      "text/markdown": "\nA tibble: 3 × 4\n\n| GAME_ID &lt;chr&gt; | STATE &lt;chr&gt; | NEW.STATE &lt;chr&gt; | run_value &lt;dbl&gt; |\n|---|---|---|---|\n| ANA201107190 | 000 2 | 010 2 |  0.2119828 |\n| ANA201107190 | 010 0 | 001 1 | -0.1208445 |\n| ANA201107190 | 100 0 | 110 0 |  0.5793557 |\n\n",
      "text/latex": "A tibble: 3 × 4\n\\begin{tabular}{llll}\n GAME\\_ID & STATE & NEW.STATE & run\\_value\\\\\n <chr> & <chr> & <chr> & <dbl>\\\\\n\\hline\n\t ANA201107190 & 000 2 & 010 2 &  0.2119828\\\\\n\t ANA201107190 & 010 0 & 001 1 & -0.1208445\\\\\n\t ANA201107190 & 100 0 & 110 0 &  0.5793557\\\\\n\\end{tabular}\n",
      "text/plain": [
       "  GAME_ID      STATE NEW.STATE run_value \n",
       "1 ANA201107190 000 2 010 2      0.2119828\n",
       "2 ANA201107190 010 0 001 1     -0.1208445\n",
       "3 ANA201107190 100 0 110 0      0.5793557"
      ]
     },
     "metadata": {},
     "output_type": "display_data"
    }
   ],
   "execution_count": 55
  },
  {
   "metadata": {
    "ExecuteTime": {
     "end_time": "2024-04-29T23:24:39.938043Z",
     "start_time": "2024-04-29T23:24:39.912233Z"
    }
   },
   "cell_type": "code",
   "source": [
    "josh_hamilton_at_bats %>%\n",
    "  group_by(BASES) %>%\n",
    "summarize(Number_Of_opportunites = n()) -> josh_ham_opportunites\n",
    "\n",
    "josh_ham_opportunites"
   ],
   "id": "1f60e1781cd49986",
   "outputs": [
    {
     "data": {
      "text/html": [
       "<table class=\"dataframe\">\n",
       "<caption>A tibble: 8 × 2</caption>\n",
       "<thead>\n",
       "\t<tr><th scope=col>BASES</th><th scope=col>Number_Of_opportunites</th></tr>\n",
       "\t<tr><th scope=col>&lt;chr&gt;</th><th scope=col>&lt;int&gt;</th></tr>\n",
       "</thead>\n",
       "<tbody>\n",
       "\t<tr><td>000</td><td>281</td></tr>\n",
       "\t<tr><td>001</td><td> 31</td></tr>\n",
       "\t<tr><td>010</td><td> 60</td></tr>\n",
       "\t<tr><td>011</td><td> 21</td></tr>\n",
       "\t<tr><td>100</td><td> 99</td></tr>\n",
       "\t<tr><td>101</td><td> 10</td></tr>\n",
       "\t<tr><td>110</td><td> 23</td></tr>\n",
       "\t<tr><td>111</td><td> 13</td></tr>\n",
       "</tbody>\n",
       "</table>\n"
      ],
      "text/markdown": "\nA tibble: 8 × 2\n\n| BASES &lt;chr&gt; | Number_Of_opportunites &lt;int&gt; |\n|---|---|\n| 000 | 281 |\n| 001 |  31 |\n| 010 |  60 |\n| 011 |  21 |\n| 100 |  99 |\n| 101 |  10 |\n| 110 |  23 |\n| 111 |  13 |\n\n",
      "text/latex": "A tibble: 8 × 2\n\\begin{tabular}{ll}\n BASES & Number\\_Of\\_opportunites\\\\\n <chr> & <int>\\\\\n\\hline\n\t 000 & 281\\\\\n\t 001 &  31\\\\\n\t 010 &  60\\\\\n\t 011 &  21\\\\\n\t 100 &  99\\\\\n\t 101 &  10\\\\\n\t 110 &  23\\\\\n\t 111 &  13\\\\\n\\end{tabular}\n",
      "text/plain": [
       "  BASES Number_Of_opportunites\n",
       "1 000   281                   \n",
       "2 001    31                   \n",
       "3 010    60                   \n",
       "4 011    21                   \n",
       "5 100    99                   \n",
       "6 101    10                   \n",
       "7 110    23                   \n",
       "8 111    13                   "
      ]
     },
     "metadata": {},
     "output_type": "display_data"
    }
   ],
   "execution_count": 56
  },
  {
   "metadata": {
    "ExecuteTime": {
     "end_time": "2024-04-29T23:28:18.389601Z",
     "start_time": "2024-04-29T23:28:17.409529Z"
    }
   },
   "cell_type": "code",
   "source": [
    "ggplot(josh_hamilton_at_bats, aes(BASES, run_value)) +\n",
    "geom_jitter(width = .25, alpha = .5) + \n",
    "geom_hline(yintercept = 0, color='red')+\n",
    "xlab(\"RUNNERS\")"
   ],
   "id": "4c3ec65dcdebb872",
   "outputs": [
    {
     "data": {
      "text/plain": [
       "plot without title"
      ],
      "image/png": "[encoded data removed]"
     },
     "metadata": {
      "image/png": {
       "width": 420,
       "height": 420
      }
     },
     "output_type": "display_data"
    }
   ],
   "execution_count": 58
  },
  {
   "metadata": {
    "ExecuteTime": {
     "end_time": "2024-04-29T23:36:47.948154Z",
     "start_time": "2024-04-29T23:36:47.920849Z"
    }
   },
   "cell_type": "code",
   "source": [
    "josh_runs <- josh_hamilton_at_bats %>%\n",
    "              group_by(BASES) %>%\n",
    "              summarize(\n",
    "                      RUNS = sum(run_value),\n",
    "                      Number_Of_Opportunites = n()\n",
    "              )\n",
    "josh_runs"
   ],
   "id": "c0431bf14bad9615",
   "outputs": [
    {
     "data": {
      "text/html": [
       "<table class=\"dataframe\">\n",
       "<caption>A tibble: 8 × 3</caption>\n",
       "<thead>\n",
       "\t<tr><th scope=col>BASES</th><th scope=col>RUNS</th><th scope=col>Number_Of_Opportunites</th></tr>\n",
       "\t<tr><th scope=col>&lt;chr&gt;</th><th scope=col>&lt;dbl&gt;</th><th scope=col>&lt;int&gt;</th></tr>\n",
       "</thead>\n",
       "<tbody>\n",
       "\t<tr><td>000</td><td> 9.7878794</td><td>281</td></tr>\n",
       "\t<tr><td>001</td><td> 2.8351110</td><td> 31</td></tr>\n",
       "\t<tr><td>010</td><td> 2.5861556</td><td> 60</td></tr>\n",
       "\t<tr><td>011</td><td> 0.5862898</td><td> 21</td></tr>\n",
       "\t<tr><td>100</td><td>11.9029191</td><td> 99</td></tr>\n",
       "\t<tr><td>101</td><td> 2.2336190</td><td> 10</td></tr>\n",
       "\t<tr><td>110</td><td> 0.9614396</td><td> 23</td></tr>\n",
       "\t<tr><td>111</td><td> 1.6571612</td><td> 13</td></tr>\n",
       "</tbody>\n",
       "</table>\n"
      ],
      "text/markdown": "\nA tibble: 8 × 3\n\n| BASES &lt;chr&gt; | RUNS &lt;dbl&gt; | Number_Of_Opportunites &lt;int&gt; |\n|---|---|---|\n| 000 |  9.7878794 | 281 |\n| 001 |  2.8351110 |  31 |\n| 010 |  2.5861556 |  60 |\n| 011 |  0.5862898 |  21 |\n| 100 | 11.9029191 |  99 |\n| 101 |  2.2336190 |  10 |\n| 110 |  0.9614396 |  23 |\n| 111 |  1.6571612 |  13 |\n\n",
      "text/latex": "A tibble: 8 × 3\n\\begin{tabular}{lll}\n BASES & RUNS & Number\\_Of\\_Opportunites\\\\\n <chr> & <dbl> & <int>\\\\\n\\hline\n\t 000 &  9.7878794 & 281\\\\\n\t 001 &  2.8351110 &  31\\\\\n\t 010 &  2.5861556 &  60\\\\\n\t 011 &  0.5862898 &  21\\\\\n\t 100 & 11.9029191 &  99\\\\\n\t 101 &  2.2336190 &  10\\\\\n\t 110 &  0.9614396 &  23\\\\\n\t 111 &  1.6571612 &  13\\\\\n\\end{tabular}\n",
      "text/plain": [
       "  BASES RUNS       Number_Of_Opportunites\n",
       "1 000    9.7878794 281                   \n",
       "2 001    2.8351110  31                   \n",
       "3 010    2.5861556  60                   \n",
       "4 011    0.5862898  21                   \n",
       "5 100   11.9029191  99                   \n",
       "6 101    2.2336190  10                   \n",
       "7 110    0.9614396  23                   \n",
       "8 111    1.6571612  13                   "
      ]
     },
     "metadata": {},
     "output_type": "display_data"
    }
   ],
   "execution_count": 59
  }
 ],
 "metadata": {
  "kernelspec": {
   "display_name": "R",
   "language": "R",
   "name": "ir"
  },
  "language_info": {
   "codemirror_mode": "r",
   "file_extension": ".r",
   "mimetype": "text/x-r-source",
   "name": "R",
   "pygments_lexer": "r",
   "version": "4.3.2"
  }
 },
 "nbformat": 4,
 "nbformat_minor": 5
}
